{
 "cells": [
  {
   "cell_type": "code",
   "execution_count": 1,
   "metadata": {},
   "outputs": [],
   "source": [
    "dbutils.fs.mkdirs(\"file:/dbfs/files\")\n",
    "dbutils.fs.put(\"file:/dbfs/files/tooldesc.csv\", \"\"\"\n",
    "ItemID,Name,Description,Owner,Price,Condition,DateRegistered\n",
    "1,Lawnmower,Small Hover mower,Fred,$150,Excellent,2012-01-05\n",
    "2,Lawnmower,Ride-on mower,Mike,$370,Fair,2012-04-01\n",
    "3,Bike,BMX bike,Joe,$200,Good,2013-03-22\n",
    "4,Drill,Heavy duty hammer,Rob,$100,Good,2013-10-28\n",
    "5,Scarifier,\"Quality, stainless steel\",Anne,$200,2013-09-14,\n",
    "6,Sprinkler,Cheap but effective,Fred,$80,2014-01-06,\n",
    "\n",
    "\"\"\", True)\n",
    "df = spark.read.format(\"csv\").options(inferschema=True,header=True).load(\"file:/dbfs/files/tooldesc.csv\")\n",
    "spark.sql(\"drop database if exists demodb cascade\")\n",
    "spark.sql(\"create database demodb\")\n",
    "spark.sql(\"use demodb\")\n",
    "spark.sql(\"drop table if exists demodb.items\")\n",
    "df.write.format(\"parquet\").saveAsTable(\"demodb.items\")"
   ]
  }
 ],
 "metadata": {
  "kernelspec": {
   "display_name": "Python 3",
   "language": "python",
   "name": "python3"
  },
  "language_info": {
   "codemirror_mode": {
    "name": "ipython",
    "version": 3
   },
   "file_extension": ".py",
   "mimetype": "text/x-python",
   "name": "python",
   "nbconvert_exporter": "python",
   "pygments_lexer": "ipython3",
   "version": "3.7.2"
  },
  "name": "job_demo",
  "notebookId": 1204577637396432
 },
 "nbformat": 4,
 "nbformat_minor": 1
}
